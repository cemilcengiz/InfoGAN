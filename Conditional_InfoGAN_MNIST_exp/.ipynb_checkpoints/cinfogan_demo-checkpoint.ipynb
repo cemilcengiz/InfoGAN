{
 "cells": [
  {
   "cell_type": "code",
   "execution_count": null,
   "metadata": {},
   "outputs": [],
   "source": [
    "include(\"cinfogan.jl\")"
   ]
  },
  {
   "cell_type": "code",
   "execution_count": null,
   "metadata": {},
   "outputs": [],
   "source": [
    "wd, wgq, md, mg, mq = ConditionalInfoGAN.main(\"--epochs 20 --seed 1 --outdir saved1\");"
   ]
  },
  {
   "cell_type": "code",
   "execution_count": null,
   "metadata": {},
   "outputs": [],
   "source": [
    "l0 = map(i->reshape(collect(1:10), 1, 10), 1:10)  \n",
    "l1 = vec(vcat(l0...))\n",
    "ConditionalInfoGAN.plot_generations(wgq[:wg], mg, l1)"
   ]
  },
  {
   "cell_type": "code",
   "execution_count": null,
   "metadata": {
    "collapsed": true
   },
   "outputs": [],
   "source": [
    "#wd, wgq, md, mg, mq = InfoGAN.main(\"--epochs 0 --seed 1 --loadfile savedmodels/models/0020.jld2\");\n"
   ]
  }
 ],
 "metadata": {
  "kernelspec": {
   "display_name": "Julia 0.6.0",
   "language": "julia",
   "name": "julia-0.6"
  },
  "language_info": {
   "file_extension": ".jl",
   "mimetype": "application/julia",
   "name": "julia",
   "version": "0.6.0"
  }
 },
 "nbformat": 4,
 "nbformat_minor": 2
}
